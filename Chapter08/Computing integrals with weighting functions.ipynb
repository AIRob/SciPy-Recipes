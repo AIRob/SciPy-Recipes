{
 "cells": [
  {
   "cell_type": "code",
   "execution_count": 2,
   "metadata": {
    "collapsed": true
   },
   "outputs": [],
   "source": [
    "import numpy as np\n",
    "from scipy.integrate import quad"
   ]
  },
  {
   "cell_type": "code",
   "execution_count": 10,
   "metadata": {
    "collapsed": true
   },
   "outputs": [],
   "source": [
    "#define the function to be integrated - AK\n",
    "def f(x):\n",
    "    return np.cos(x) + np.sin(x)\n",
    "def g(x):\n",
    "    return x**3 + np.exp(x/2)"
   ]
  },
  {
   "cell_type": "code",
   "execution_count": 11,
   "metadata": {
    "collapsed": false
   },
   "outputs": [
    {
     "name": "stdout",
     "output_type": "stream",
     "text": [
      "1.892166140734366\n"
     ]
    },
    {
     "data": {
      "text/plain": [
       "2.0843812219750304"
      ]
     },
     "execution_count": 11,
     "metadata": {},
     "output_type": "execute_result"
    }
   ],
   "source": [
    "from scipy.integrate import romberg\n",
    "value, abs_error = quad(f, -1, 1, weight='cauchy',wvar=0)\n",
    "print (value)\n",
    "\n",
    "romberg(g, -1, 1)"
   ]
  },
  {
   "cell_type": "code",
   "execution_count": 12,
   "metadata": {
    "collapsed": false
   },
   "outputs": [
    {
     "name": "stdout",
     "output_type": "stream",
     "text": [
      "1.5597868007536457\n"
     ]
    },
    {
     "name": "stderr",
     "output_type": "stream",
     "text": [
      "C:\\Users\\am\\Anaconda3\\lib\\site-packages\\scipy\\integrate\\quadrature.py:199: AccuracyWarning: maxiter (50) exceeded. Latest difference = 3.483182e-04\n",
      "  AccuracyWarning)\n"
     ]
    }
   ],
   "source": [
    "from scipy.integrate import quadrature, fixed_quad\n",
    "def f(x): return np.cos(np.pi * x * 0.5)\n",
    "def g(x): return np.cos(np.pi * x * 0.5) / np.sqrt(x)\n",
    "value, abs_error = quad(f, 0, 1, weight='alg',\n",
    "                                 wvar=(-0.5,0))\n",
    "print (value)\n",
    "\n",
    "quadrature(g, 0, 1)\n",
    "difference = 3.483182e-04"
   ]
  },
  {
   "cell_type": "code",
   "execution_count": 13,
   "metadata": {
    "collapsed": false
   },
   "outputs": [
    {
     "name": "stdout",
     "output_type": "stream",
     "text": [
      "-0.1111111111111111\n"
     ]
    }
   ],
   "source": [
    "def f(x): return x**2\n",
    "def g(x): return x**2 * np.log(x)\n",
    "value, abs_error = quad(f, 0, 1, weight='alg-loga',\n",
    "                                 wvar=(0,0));\n",
    "print (value)"
   ]
  },
  {
   "cell_type": "code",
   "execution_count": null,
   "metadata": {
    "collapsed": true
   },
   "outputs": [],
   "source": []
  }
 ],
 "metadata": {
  "anaconda-cloud": {},
  "kernelspec": {
   "display_name": "Python [conda root]",
   "language": "python",
   "name": "conda-root-py"
  },
  "language_info": {
   "codemirror_mode": {
    "name": "ipython",
    "version": 2
   },
   "file_extension": ".py",
   "mimetype": "text/x-python",
   "name": "python",
   "nbconvert_exporter": "python",
   "pygments_lexer": "ipython2",
   "version": "2.7.12"
  }
 },
 "nbformat": 4,
 "nbformat_minor": 2
}
