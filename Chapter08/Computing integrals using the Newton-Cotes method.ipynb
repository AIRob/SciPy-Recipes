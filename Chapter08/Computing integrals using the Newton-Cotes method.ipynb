{
 "cells": [
  {
   "cell_type": "code",
   "execution_count": 1,
   "metadata": {
    "collapsed": true
   },
   "outputs": [],
   "source": [
    "import numpy as np"
   ]
  },
  {
   "cell_type": "code",
   "execution_count": 2,
   "metadata": {
    "collapsed": false
   },
   "outputs": [
    {
     "name": "stdout",
     "output_type": "stream",
     "text": [
      "[ 0.375  1.125  1.125  0.375]\n"
     ]
    }
   ],
   "source": [
    "from scipy.integrate import newton_cotes\n",
    "coefficients, abs_error = newton_cotes(3, equal=True)\n",
    "nodes = np.linspace(-1, 1, 4)\n",
    "print (coefficients)"
   ]
  },
  {
   "cell_type": "code",
   "execution_count": 3,
   "metadata": {
    "collapsed": true
   },
   "outputs": [],
   "source": [
    "# Define the function to be integrated - AK\n",
    "def f(nodes):\n",
    "    return np.exp(nodes)"
   ]
  },
  {
   "cell_type": "code",
   "execution_count": 4,
   "metadata": {
    "collapsed": false
   },
   "outputs": [
    {
     "name": "stdout",
     "output_type": "stream",
     "text": [
      "3.53347217873\n"
     ]
    }
   ],
   "source": [
    "integral = (coefficients * f(nodes)).sum()\n",
    "print (integral)"
   ]
  },
  {
   "cell_type": "code",
   "execution_count": 5,
   "metadata": {
    "collapsed": false
   },
   "outputs": [
    {
     "name": "stdout",
     "output_type": "stream",
     "text": [
      "3.5334721787287964\n"
     ]
    }
   ],
   "source": [
    "from math import fsum\n",
    "integral = fsum(coefficients * f(nodes)); \\\n",
    "print (integral)"
   ]
  },
  {
   "cell_type": "code",
   "execution_count": 6,
   "metadata": {
    "collapsed": false
   },
   "outputs": [
    {
     "data": {
      "text/plain": [
       "2.3504023872876036"
      ]
     },
     "execution_count": 6,
     "metadata": {},
     "output_type": "execute_result"
    }
   ],
   "source": [
    "from scipy.integrate import romb\n",
    "nodes = np.linspace(-1, 1, 65)\n",
    "romb(f(nodes), dx=1./32)"
   ]
  },
  {
   "cell_type": "code",
   "execution_count": 7,
   "metadata": {
    "collapsed": false
   },
   "outputs": [
    {
     "data": {
      "text/plain": [
       "(1.1178179380783244, 7.866317216380707e-09)"
      ]
     },
     "execution_count": 7,
     "metadata": {},
     "output_type": "execute_result"
    }
   ],
   "source": [
    "import scipy.integrate as integrate\n",
    "import scipy.special as special\n",
    "result = integrate.quad(lambda x: special.jv(2.5,x), 0, 4.5)\n",
    "result"
   ]
  },
  {
   "cell_type": "code",
   "execution_count": 9,
   "metadata": {
    "collapsed": false
   },
   "outputs": [
    {
     "name": "stdout",
     "output_type": "stream",
     "text": [
      "Romberg integration of <function vectorize1.<locals>.vfunc at 0x00000192113EC0D0> from [-1, 1]\n",
      "\n",
      " Steps  StepSize   Results\n",
      "     1  2.000000  3.086161 \n",
      "     2  1.000000  2.543081  2.362054 \n",
      "     4  0.500000  2.399166  2.351195  2.350471 \n",
      "     8  0.250000  2.362631  2.350453  2.350404  2.350402 \n",
      "    16  0.125000  2.353462  2.350406  2.350402  2.350402  2.350402 \n",
      "    32  0.062500  2.351167  2.350403  2.350402  2.350402  2.350402  2.350402 \n",
      "\n",
      "The final result is 2.35040238729 after 33 function evaluations.\n"
     ]
    },
    {
     "data": {
      "text/plain": [
       "2.3504023872876072"
      ]
     },
     "execution_count": 9,
     "metadata": {},
     "output_type": "execute_result"
    }
   ],
   "source": [
    "from scipy.integrate import romberg\n",
    "romberg(f, -1, 1, show=True)\n",
    "#Romberg integration of <function vfunc at 0x10ffa8c08> from [-1, 1]\n",
    "# Steps StepSize Results\n",
    "#     1 2.000000 0.000000\n",
    "#     2 1.000000 0.000000 0.000000"
   ]
  },
  {
   "cell_type": "code",
   "execution_count": null,
   "metadata": {
    "collapsed": true
   },
   "outputs": [],
   "source": []
  }
 ],
 "metadata": {
  "anaconda-cloud": {},
  "kernelspec": {
   "display_name": "Python [conda root]",
   "language": "python",
   "name": "conda-root-py"
  },
  "language_info": {
   "codemirror_mode": {
    "name": "ipython",
    "version": 2
   },
   "file_extension": ".py",
   "mimetype": "text/x-python",
   "name": "python",
   "nbconvert_exporter": "python",
   "pygments_lexer": "ipython2",
   "version": "2.7.12"
  }
 },
 "nbformat": 4,
 "nbformat_minor": 2
}
