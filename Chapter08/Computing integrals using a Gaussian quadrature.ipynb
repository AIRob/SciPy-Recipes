{
 "cells": [
  {
   "cell_type": "code",
   "execution_count": 1,
   "metadata": {
    "collapsed": true
   },
   "outputs": [],
   "source": [
    "import numpy as np"
   ]
  },
  {
   "cell_type": "code",
   "execution_count": 12,
   "metadata": {
    "collapsed": true
   },
   "outputs": [],
   "source": [
    "# define the function to be integrated - AK\n",
    "def f(x):\n",
    "    return np.cos(x*x)"
   ]
  },
  {
   "cell_type": "code",
   "execution_count": 13,
   "metadata": {
    "collapsed": false
   },
   "outputs": [
    {
     "name": "stdout",
     "output_type": "stream",
     "text": [
      "1.80904847478\n"
     ]
    }
   ],
   "source": [
    "from scipy.integrate import quadrature, fixed_quad\n",
    "value, absolute_error = quadrature(f, -1, 1, tol=1.49e-8)\n",
    "print (value)"
   ]
  },
  {
   "cell_type": "code",
   "execution_count": 14,
   "metadata": {
    "collapsed": false
   },
   "outputs": [
    {
     "name": "stdout",
     "output_type": "stream",
     "text": [
      "1.80861639538\n"
     ]
    }
   ],
   "source": [
    "value, absolute_error = fixed_quad(f, -1, 1, n=4)\n",
    "print (value) # four nodes"
   ]
  },
  {
   "cell_type": "code",
   "execution_count": 15,
   "metadata": {
    "collapsed": false
   },
   "outputs": [
    {
     "name": "stdout",
     "output_type": "stream",
     "text": [
      "1.8090484758005436\n"
     ]
    }
   ],
   "source": [
    "from scipy.integrate import quad\n",
    "value, absolute_error = quad(f, -1, 1)\n",
    "print (value)"
   ]
  },
  {
   "cell_type": "code",
   "execution_count": 16,
   "metadata": {
    "collapsed": false
   },
   "outputs": [
    {
     "name": "stdout",
     "output_type": "stream",
     "text": [
      "21 function evaluations\n",
      "Used 1 subintervals\n"
     ]
    }
   ],
   "source": [
    "value, abs_error, info = quad(f, -1, 1, full_output=True)\n",
    "info.keys()\n",
    "\n",
    "print (\"{0} function evaluations\".format(info['neval']))\n",
    "print (\"Used {0} subintervals\".format(info['last']))"
   ]
  },
  {
   "cell_type": "code",
   "execution_count": 17,
   "metadata": {
    "collapsed": false
   },
   "outputs": [
    {
     "name": "stdout",
     "output_type": "stream",
     "text": [
      "[  1.81e+000   1.16e-028   1.04e+219   9.05e+271   9.09e+276   4.51e-144\n",
      "   1.14e+243   8.45e+252   1.17e+253   5.29e+199   6.20e+223   1.83e-086\n",
      "   1.27e+161   1.06e+078   3.85e-086   2.13e+161   2.87e+257   3.53e-057\n",
      "   2.09e-115   1.53e-094   1.43e-153   9.69e-072   9.39e-154   8.62e-072\n",
      "   4.67e+164   2.78e-047   6.29e+233   2.71e+243   3.13e-120   1.21e-118\n",
      "   7.68e+170   4.19e+228   2.45e+198   9.75e+199   1.16e+253   3.45e-086\n",
      "   1.81e-152   4.23e+175   5.27e+170   1.16e+253   6.29e+233   4.19e+228\n",
      "   1.11e+136   3.53e+233   1.16e-028   1.05e-142   9.08e+223   1.16e-028\n",
      "   2.06e-081   1.17e+253]\n"
     ]
    }
   ],
   "source": [
    "np.set_printoptions(precision=2, suppress=True)\n",
    "print (info['rlist']) # integral approx on subintervals"
   ]
  },
  {
   "cell_type": "code",
   "execution_count": 18,
   "metadata": {
    "collapsed": false
   },
   "outputs": [
    {
     "name": "stdout",
     "output_type": "stream",
     "text": [
      "[  2.01e-014   1.16e-028   1.04e+219   9.05e+271   9.09e+276   4.51e-144\n",
      "   1.14e+243   8.45e+252   1.17e+253   5.29e+199   6.20e+223   1.83e-086\n",
      "   1.27e+161   1.06e+078   3.85e-086   2.13e+161   2.87e+257   3.53e-057\n",
      "   2.09e-115   1.53e-094   1.43e-153   9.69e-072   9.39e-154   8.62e-072\n",
      "   4.67e+164   2.78e-047   6.29e+233   2.71e+243   3.13e-120   1.21e-118\n",
      "   7.68e+170   4.19e+228   2.45e+198   9.75e+199   1.16e+253   3.45e-086\n",
      "   1.81e-152   4.23e+175   5.27e+170   1.16e+253   6.29e+233   4.19e+228\n",
      "   1.11e+136   3.53e+233   1.16e-028   1.05e-142   9.08e+223   1.16e-028\n",
      "   2.06e-081   1.17e+253]\n"
     ]
    }
   ],
   "source": [
    "print (info['elist'])"
   ]
  },
  {
   "cell_type": "code",
   "execution_count": 19,
   "metadata": {
    "collapsed": false
   },
   "outputs": [
    {
     "name": "stdout",
     "output_type": "stream",
     "text": [
      "[ -1.00e+000   1.25e-311   1.25e-311   1.25e-311   1.25e-311   1.25e-311\n",
      "   1.25e-311   1.25e-311   1.25e-311   1.25e-311   1.25e-311   1.25e-311\n",
      "   1.25e-311   1.25e-311   1.25e-311   1.25e-311   1.25e-311   1.25e-311\n",
      "   1.25e-311   1.25e-311   1.25e-311   1.25e-311   1.25e-311   1.25e-311\n",
      "   1.25e-311   1.25e-311   1.25e-311   1.25e-311   1.25e-311   1.25e-311\n",
      "   1.25e-311   1.25e-311   1.25e-311   1.25e-311   6.01e-154   7.22e+159\n",
      "   2.43e-152   2.00e+161   1.83e+044   9.75e+199   4.57e-085   6.94e+252\n",
      "   5.81e+180   1.03e+016   5.30e+180   2.59e+161   3.15e+180   2.53e-258\n",
      "   6.01e-154   1.34e-307]\n"
     ]
    }
   ],
   "source": [
    "print (info['alist'])"
   ]
  },
  {
   "cell_type": "code",
   "execution_count": 20,
   "metadata": {
    "collapsed": false
   },
   "outputs": [
    {
     "name": "stdout",
     "output_type": "stream",
     "text": [
      "[  1.00e+000   7.80e-143   4.63e+228   2.21e+214   9.75e+199   9.30e+199\n",
      "   8.55e-072   5.04e+223   7.34e+223   2.12e+161   1.17e+253   5.74e+180\n",
      "   8.37e-144   4.51e-144   4.27e+180   4.32e-080   9.08e+223   9.44e+218\n",
      "   5.57e+228   2.12e+161   9.09e+276   1.12e+261   1.16e-028   1.04e+219\n",
      "   9.05e+271   9.09e+276   4.51e-144   1.14e+243   8.45e+252   1.17e+253\n",
      "   5.29e+199   6.20e+223   1.83e-086   1.27e+161   1.06e+078   3.85e-086\n",
      "   2.13e+161   2.87e+257   3.53e-057   2.09e-115   1.53e-094   1.43e-153\n",
      "   9.69e-072   9.39e-154   8.62e-072   4.67e+164   2.78e-047   6.29e+233\n",
      "   2.71e+243   3.13e-120]\n"
     ]
    }
   ],
   "source": [
    "print (info['blist'])"
   ]
  },
  {
   "cell_type": "code",
   "execution_count": null,
   "metadata": {
    "collapsed": true
   },
   "outputs": [],
   "source": []
  }
 ],
 "metadata": {
  "anaconda-cloud": {},
  "kernelspec": {
   "display_name": "Python [conda root]",
   "language": "python",
   "name": "conda-root-py"
  },
  "language_info": {
   "codemirror_mode": {
    "name": "ipython",
    "version": 2
   },
   "file_extension": ".py",
   "mimetype": "text/x-python",
   "name": "python",
   "nbconvert_exporter": "python",
   "pygments_lexer": "ipython2",
   "version": "2.7.12"
  }
 },
 "nbformat": 4,
 "nbformat_minor": 2
}
