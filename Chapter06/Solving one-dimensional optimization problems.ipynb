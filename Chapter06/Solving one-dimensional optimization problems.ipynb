{
 "cells": [
  {
   "cell_type": "code",
   "execution_count": 2,
   "metadata": {
    "collapsed": false
   },
   "outputs": [
    {
     "data": {
      "text/plain": [
       "array([ 1.00000002,  1.00000002,  1.00000007,  1.00000015,  1.00000028])"
      ]
     },
     "execution_count": 2,
     "metadata": {},
     "output_type": "execute_result"
    }
   ],
   "source": [
    "from scipy.optimize import minimize, rosen, rosen_der\n",
    "x0 = [1.3, 0.7, 0.8, 1.9, 1.2]\n",
    "res = minimize(rosen, x0, method='Nelder-Mead', tol=1e-6)\n",
    "res.x"
   ]
  },
  {
   "cell_type": "code",
   "execution_count": 3,
   "metadata": {
    "collapsed": false
   },
   "outputs": [
    {
     "name": "stdout",
     "output_type": "stream",
     "text": [
      "Optimization terminated successfully.\n",
      "         Current function value: 0.000000\n",
      "         Iterations: 26\n",
      "         Function evaluations: 31\n",
      "         Gradient evaluations: 31\n"
     ]
    },
    {
     "data": {
      "text/plain": [
       "array([ 1.,  1.,  1.,  1.,  1.])"
      ]
     },
     "execution_count": 3,
     "metadata": {},
     "output_type": "execute_result"
    }
   ],
   "source": [
    "res = minimize(rosen, x0, method='BFGS', jac=rosen_der,\n",
    "                options={'gtol': 1e-6, 'disp': True})\n",
    "res.x"
   ]
  },
  {
   "cell_type": "code",
   "execution_count": 4,
   "metadata": {
    "collapsed": false
   },
   "outputs": [
    {
     "name": "stdout",
     "output_type": "stream",
     "text": [
      "Optimization terminated successfully.\n"
     ]
    }
   ],
   "source": [
    "print(res.message)"
   ]
  },
  {
   "cell_type": "code",
   "execution_count": 5,
   "metadata": {
    "collapsed": false
   },
   "outputs": [
    {
     "data": {
      "text/plain": [
       "array([[ 0.00763624,  0.0125159 ,  0.02359808,  0.0465684 ,  0.09317974],\n",
       "       [ 0.0125159 ,  0.02489687,  0.04727754,  0.09353774,  0.18708048],\n",
       "       [ 0.02359808,  0.04727754,  0.09483095,  0.18783847,  0.37561493],\n",
       "       [ 0.0465684 ,  0.09353774,  0.18783847,  0.37715312,  0.75414172],\n",
       "       [ 0.09317974,  0.18708048,  0.37561493,  0.75414172,  1.51296479]])"
      ]
     },
     "execution_count": 5,
     "metadata": {},
     "output_type": "execute_result"
    }
   ],
   "source": [
    "res.hess_inv\n",
    "#array([[ 0.00749589,  0.01255155,  0.02396251,  0.04750988,  0.09495377],  # may vary\n",
    "#       [ 0.01255155,  0.02510441,  0.04794055,  0.09502834,  0.18996269],\n",
    "#       [ 0.02396251,  0.04794055,  0.09631614,  0.19092151,  0.38165151],\n",
    "#       [ 0.04750988,  0.09502834,  0.19092151,  0.38341252,  0.7664427 ],\n",
    "#       [ 0.09495377,  0.18996269,  0.38165151,  0.7664427,   1.53713523]])"
   ]
  },
  {
   "cell_type": "code",
   "execution_count": 6,
   "metadata": {
    "collapsed": false
   },
   "outputs": [
    {
     "name": "stderr",
     "output_type": "stream",
     "text": [
      "C:\\Users\\prasadr\\AppData\\Local\\Continuum\\Anaconda3\\lib\\site-packages\\scipy\\optimize\\slsqp.py:341: RuntimeWarning: invalid value encountered in greater\n",
      "  bnderr = bnds[:, 0] > bnds[:, 1]\n"
     ]
    }
   ],
   "source": [
    "fun = lambda x: (x[0] - 1)**2 + (x[1] - 2.5)**2\n",
    "cons = ({'type': 'ineq', 'fun': lambda x:  x[0] - 2 * x[1] + 2},\n",
    "         {'type': 'ineq', 'fun': lambda x: -x[0] - 2 * x[1] + 6},\n",
    "         {'type': 'ineq', 'fun': lambda x: -x[0] + 2 * x[1] + 2})\n",
    "bnds = ((0, None), (0, None))\n",
    "res = minimize(fun, (2, 0), method='SLSQP', bounds=bnds,\n",
    "                constraints=cons)"
   ]
  },
  {
   "cell_type": "code",
   "execution_count": null,
   "metadata": {
    "collapsed": true
   },
   "outputs": [],
   "source": []
  }
 ],
 "metadata": {
  "anaconda-cloud": {},
  "kernelspec": {
   "display_name": "Python [conda root]",
   "language": "python",
   "name": "conda-root-py"
  },
  "language_info": {
   "codemirror_mode": {
    "name": "ipython",
    "version": 2
   },
   "file_extension": ".py",
   "mimetype": "text/x-python",
   "name": "python",
   "nbconvert_exporter": "python",
   "pygments_lexer": "ipython2",
   "version": "2.7.12"
  }
 },
 "nbformat": 4,
 "nbformat_minor": 2
}
