{
 "cells": [
  {
   "cell_type": "code",
   "execution_count": 2,
   "metadata": {
    "collapsed": true
   },
   "outputs": [],
   "source": [
    "import numpy as np"
   ]
  },
  {
   "cell_type": "code",
   "execution_count": 3,
   "metadata": {
    "collapsed": false
   },
   "outputs": [
    {
     "data": {
      "text/plain": [
       "array([ 1.,  2.,  3.,  4.])"
      ]
     },
     "execution_count": 3,
     "metadata": {},
     "output_type": "execute_result"
    }
   ],
   "source": [
    "def F(x):\n",
    "    return np.cos(x) + x[::-1] - [1, 2, 3, 4]\n",
    "import scipy.optimize\n",
    "x = scipy.optimize.broyden1(F, [1,1,1,1], f_tol=1e-14)\n",
    "x\n",
    "\n",
    "np.cos(x) + x[::-1]"
   ]
  },
  {
   "cell_type": "code",
   "execution_count": 1,
   "metadata": {
    "collapsed": false
   },
   "outputs": [
    {
     "name": "stdout",
     "output_type": "stream",
     "text": [
      "0:  |F(x)| = 626.642; step 1; tol 0.000157679\n",
      "1:  |F(x)| = 234.795; step 1; tol 0.126352\n",
      "2:  |F(x)| = 114.961; step 1; tol 0.215758\n",
      "3:  |F(x)| = 24.1252; step 1; tol 0.0396353\n",
      "4:  |F(x)| = 1.53236; step 1; tol 0.00363097\n",
      "5:  |F(x)| = 0.118368; step 1; tol 0.00537016\n",
      "6:  |F(x)| = 0.00888121; step 1; tol 0.00506662\n",
      "7:  |F(x)| = 0.000125042; step 1; tol 0.000178408\n",
      "Residual: 5.79949e-06\n"
     ]
    },
    {
     "data": {
      "image/png": "[encoded data removed]",
      "text/plain": [
       "<matplotlib.figure.Figure at 0x39eecc0>"
      ]
     },
     "metadata": {},
     "output_type": "display_data"
    }
   ],
   "source": [
    "import numpy as np\n",
    "from scipy.optimize import newton_krylov\n",
    "from numpy import cosh, zeros_like, mgrid, zeros\n",
    "\n",
    "# parameters\n",
    "nx, ny = 75, 75\n",
    "hx, hy = 1./(nx-1), 1./(ny-1)\n",
    "\n",
    "P_left, P_right = 0, 0\n",
    "P_top, P_bottom = 1, 0\n",
    "\n",
    "def residual(P):\n",
    "    d2x = zeros_like(P)\n",
    "    d2y = zeros_like(P)\n",
    "\n",
    "    d2x[1:-1] = (P[2:]   - 2*P[1:-1] + P[:-2]) / hx/hx\n",
    "    d2x[0]    = (P[1]    - 2*P[0]    + P_left)/hx/hx\n",
    "    d2x[-1]   = (P_right - 2*P[-1]   + P[-2])/hx/hx\n",
    "\n",
    "    d2y[:,1:-1] = (P[:,2:] - 2*P[:,1:-1] + P[:,:-2])/hy/hy\n",
    "    d2y[:,0]    = (P[:,1]  - 2*P[:,0]    + P_bottom)/hy/hy\n",
    "    d2y[:,-1]   = (P_top   - 2*P[:,-1]   + P[:,-2])/hy/hy\n",
    "\n",
    "    return d2x + d2y - 10*cosh(P).mean()**2\n",
    "\n",
    "# solve\n",
    "guess = zeros((nx, ny), float)\n",
    "sol = newton_krylov(residual, guess, method='lgmres', verbose=1)\n",
    "print('Residual: %g' % abs(residual(sol)).max())\n",
    "\n",
    "# visualize\n",
    "import matplotlib.pyplot as plt\n",
    "x, y = mgrid[0:1:(nx*1j), 0:1:(ny*1j)]\n",
    "plt.pcolor(x, y, sol)\n",
    "plt.colorbar()\n",
    "plt.show()"
   ]
  },
  {
   "cell_type": "code",
   "execution_count": null,
   "metadata": {
    "collapsed": true
   },
   "outputs": [],
   "source": []
  }
 ],
 "metadata": {
  "anaconda-cloud": {},
  "kernelspec": {
   "display_name": "Python [conda root]",
   "language": "python",
   "name": "conda-root-py"
  },
  "language_info": {
   "codemirror_mode": {
    "name": "ipython",
    "version": 2
   },
   "file_extension": ".py",
   "mimetype": "text/x-python",
   "name": "python",
   "nbconvert_exporter": "python",
   "pygments_lexer": "ipython2",
   "version": "2.7.12"
  }
 },
 "nbformat": 4,
 "nbformat_minor": 2
}
