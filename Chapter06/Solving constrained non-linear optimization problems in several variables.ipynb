{
 "cells": [
  {
   "cell_type": "code",
   "execution_count": 1,
   "metadata": {
    "collapsed": true
   },
   "outputs": [],
   "source": [
    "import numpy as np\n",
    "from scipy.interpolate import lagrange\n",
    "from scipy.optimize import OptimizeResult, minimize_scalar\n",
    "\n",
    "def good_bracket(func, bracket):\n",
    "    a, c, b = bracket\n",
    "    return (func(a) > func(c)) and (func(b) > func(c))\n",
    "\n",
    "\n",
    "def parabolic_step(f, args, bracket, **options):\n",
    "    stop = False\n",
    "    funcalls = 0\n",
    "    niter = 0\n",
    "    while not stop:\n",
    "        niter += 1\n",
    "        interpolator = lagrange(np.array(bracket), f(np.array(bracket)))\n",
    "        funcalls += 3\n",
    "        a, b, c = interpolator.coeffs\n",
    "        d = -0.5*b/a\n",
    "        if np.allclose(bracket[1], d):\n",
    "            minima = d\n",
    "            stop = True\n",
    "        elif bracket[1] < d:\n",
    "            newbracket = [bracket[1], d, bracket[2]]\n",
    "            if good_bracket(f, newbracket):\n",
    "                bracket = newbracket\n",
    "            else:\n",
    "                bracket = [bracket[0], bracket[1], d]\n",
    "        else:\n",
    "            newbracket = [d, bracket[1], bracket[2]]\n",
    "            if good_bracket(f, newbracket):\n",
    "                bracket = newbracket\n",
    "            else:\n",
    "                bracket = [bracket[0], d, bracket[1]]\n",
    "    return OptimizeResult(fun=f(minima), x=minima, nit=niter, nfev=funcalls)"
   ]
  },
  {
   "cell_type": "code",
   "execution_count": 2,
   "metadata": {
    "collapsed": false
   },
   "outputs": [
    {
     "name": "stdout",
     "output_type": "stream",
     "text": [
      "True\n",
      "  fun: array(1.5000021457670878)\n",
      " nfev: 33\n",
      "  nit: 11\n",
      "    x: -0.50000214576708779\n"
     ]
    }
   ],
   "source": [
    "def g(x): return -np.exp(-x)*np.sin(x)\n",
    "\n",
    "f = np.vectorize(lambda x: max(1-x, 2+x))\n",
    "\n",
    "print good_bracket(f, [-1, -0.5, 1])\n",
    "\n",
    "print minimize_scalar(f, bracket=[-1, -0.5, 1], method=parabolic_step)"
   ]
  },
  {
   "cell_type": "code",
   "execution_count": 3,
   "metadata": {
    "collapsed": false
   },
   "outputs": [
    {
     "name": "stdout",
     "output_type": "stream",
     "text": [
      "True\n",
      "  fun: -0.32239694192707452\n",
      " nfev: 54\n",
      "  nit: 18\n",
      "    x: 0.78540558549352946\n"
     ]
    }
   ],
   "source": [
    "print good_bracket(g, [0, 1.2, 1.5])\n",
    "\n",
    "print minimize_scalar(g, bracket=[0,1.2,1.5], method=parabolic_step)"
   ]
  },
  {
   "cell_type": "code",
   "execution_count": 4,
   "metadata": {
    "collapsed": false
   },
   "outputs": [
    {
     "data": {
      "text/plain": [
       "     fun: array(1.5)\n",
       "    nfev: 22\n",
       "     nit: 21\n",
       " success: True\n",
       "       x: -0.5"
      ]
     },
     "execution_count": 4,
     "metadata": {},
     "output_type": "execute_result"
    }
   ],
   "source": [
    "minimize_scalar(f, method='brent', bracket=[-1, -0.5, 1])"
   ]
  },
  {
   "cell_type": "code",
   "execution_count": 5,
   "metadata": {
    "collapsed": false
   },
   "outputs": [
    {
     "data": {
      "text/plain": [
       "  fun: array(1.5)\n",
       " nfev: 44\n",
       "    x: -0.5"
      ]
     },
     "execution_count": 5,
     "metadata": {},
     "output_type": "execute_result"
    }
   ],
   "source": [
    "minimize_scalar(f, method='golden', bracket=[-1, -0.5, 1])"
   ]
  },
  {
   "cell_type": "code",
   "execution_count": 6,
   "metadata": {
    "collapsed": false
   },
   "outputs": [
    {
     "data": {
      "text/plain": [
       "     fun: -0.32239694194483443\n",
       "    nfev: 11\n",
       "     nit: 10\n",
       " success: True\n",
       "       x: 0.78539817181020977"
      ]
     },
     "execution_count": 6,
     "metadata": {},
     "output_type": "execute_result"
    }
   ],
   "source": [
    "minimize_scalar(g, method='brent', bracket=[0, 1.2, 1.5])"
   ]
  },
  {
   "cell_type": "code",
   "execution_count": 7,
   "metadata": {
    "collapsed": false
   },
   "outputs": [
    {
     "data": {
      "text/plain": [
       "  fun: -0.32239694194483448\n",
       " nfev: 43\n",
       "    x: 0.7853981573284226"
      ]
     },
     "execution_count": 7,
     "metadata": {},
     "output_type": "execute_result"
    }
   ],
   "source": [
    "minimize_scalar(g, method='golden', bracket=[0, 1.2, 1.5])"
   ]
  },
  {
   "cell_type": "code",
   "execution_count": 8,
   "metadata": {
    "collapsed": false
   },
   "outputs": [
    {
     "data": {
      "text/plain": [
       "     fun: -0.3223969419448342\n",
       " message: 'Solution found.'\n",
       "    nfev: 10\n",
       "  status: 0\n",
       " success: True\n",
       "       x: 0.78539813414162596"
      ]
     },
     "execution_count": 8,
     "metadata": {},
     "output_type": "execute_result"
    }
   ],
   "source": [
    "minimize_scalar(g, method='bounded', bounds=(0, 1.5))"
   ]
  }
 ],
 "metadata": {
  "kernelspec": {
   "display_name": "Python [conda root]",
   "language": "python",
   "name": "conda-root-py"
  },
  "language_info": {
   "codemirror_mode": {
    "name": "ipython",
    "version": 2
   },
   "file_extension": ".py",
   "mimetype": "text/x-python",
   "name": "python",
   "nbconvert_exporter": "python",
   "pygments_lexer": "ipython2",
   "version": "2.7.12"
  }
 },
 "nbformat": 4,
 "nbformat_minor": 1
}
