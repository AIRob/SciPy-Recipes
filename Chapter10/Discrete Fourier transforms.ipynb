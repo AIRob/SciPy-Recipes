{
 "cells": [
  {
   "cell_type": "code",
   "execution_count": 1,
   "metadata": {},
   "outputs": [
    {
     "data": {
      "image/png": "[encoded data removed]",
      "text/plain": [
       "<matplotlib.figure.Figure at 0x2a5dc18>"
      ]
     },
     "metadata": {},
     "output_type": "display_data"
    }
   ],
   "source": [
    "import numpy\n",
    "from scipy.fftpack import fft,fft2, fftshift\n",
    "import matplotlib.pyplot as plt\n",
    "B=numpy.ones((4,4)); W=numpy.zeros((4,4))\n",
    "signal = numpy.bmat(\"B,W;W,B\")\n",
    "onedimfft = fft(signal,n=16)\n",
    "twodimfft = fft2(signal,shape=(16,16))\n",
    "plt.figure()\n",
    "plt.gray()\n",
    "plt.subplot(121,aspect='equal')\n",
    "plt.pcolormesh(onedimfft.real)\n",
    "plt.colorbar(orientation='horizontal')\n",
    "plt.subplot(122,aspect='equal')\n",
    "plt.pcolormesh(fftshift(twodimfft.real))\n",
    "plt.colorbar(orientation='horizontal')\n",
    "plt.show()"
   ]
  },
  {
   "cell_type": "code",
   "execution_count": null,
   "metadata": {
    "collapsed": true
   },
   "outputs": [],
   "source": []
  }
 ],
 "metadata": {
  "kernelspec": {
   "display_name": "Python 3",
   "language": "python",
   "name": "python3"
  },
  "language_info": {
   "codemirror_mode": {
    "name": "ipython",
    "version": 3
   },
   "file_extension": ".py",
   "mimetype": "text/x-python",
   "name": "python",
   "nbconvert_exporter": "python",
   "pygments_lexer": "ipython3",
   "version": "3.6.3"
  }
 },
 "nbformat": 4,
 "nbformat_minor": 2
}
