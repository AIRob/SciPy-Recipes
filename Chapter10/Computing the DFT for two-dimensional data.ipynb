{
 "cells": [
  {
   "cell_type": "code",
   "execution_count": 1,
   "metadata": {
    "collapsed": true
   },
   "outputs": [],
   "source": [
    "import numpy as np"
   ]
  },
  {
   "cell_type": "code",
   "execution_count": 2,
   "metadata": {
    "collapsed": false
   },
   "outputs": [
    {
     "data": {
      "text/plain": [
       "array([[ 50.0 +0.j        ,   0.0 +0.j        ,   0.0 +0.j        ,\n",
       "          0.0 +0.j        ,   0.0 +0.j        ],\n",
       "       [-12.5+17.20477401j,   0.0 +0.j        ,   0.0 +0.j        ,\n",
       "          0.0 +0.j        ,   0.0 +0.j        ],\n",
       "       [-12.5 +4.0614962j ,   0.0 +0.j        ,   0.0 +0.j        ,\n",
       "          0.0 +0.j        ,   0.0 +0.j        ],\n",
       "       [-12.5 -4.0614962j ,   0.0 +0.j        ,   0.0 +0.j        ,\n",
       "          0.0 +0.j        ,   0.0 +0.j        ],\n",
       "       [-12.5-17.20477401j,   0.0 +0.j        ,   0.0 +0.j        ,\n",
       "          0.0 +0.j        ,   0.0 +0.j        ]])"
      ]
     },
     "execution_count": 2,
     "metadata": {},
     "output_type": "execute_result"
    }
   ],
   "source": [
    "a = np.mgrid[:5, :5][0]\n",
    "np.fft.fft2(a)"
   ]
  },
  {
   "cell_type": "code",
   "execution_count": null,
   "metadata": {
    "collapsed": true
   },
   "outputs": [],
   "source": []
  }
 ],
 "metadata": {
  "anaconda-cloud": {},
  "kernelspec": {
   "display_name": "Python [Root]",
   "language": "python",
   "name": "Python [Root]"
  },
  "language_info": {
   "codemirror_mode": {
    "name": "ipython",
    "version": 3
   },
   "file_extension": ".py",
   "mimetype": "text/x-python",
   "name": "python",
   "nbconvert_exporter": "python",
   "pygments_lexer": "ipython3",
   "version": "3.5.1"
  }
 },
 "nbformat": 4,
 "nbformat_minor": 2
}
