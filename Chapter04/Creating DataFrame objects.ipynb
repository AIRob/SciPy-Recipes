{
 "cells": [
  {
   "cell_type": "code",
   "execution_count": 1,
   "metadata": {
    "collapsed": true
   },
   "outputs": [],
   "source": [
    "import numpy as np\n",
    "import pandas as pd\n",
    "df1 = pd.DataFrame([['Pen', 24, 2.39],\n",
    "                    ['Eraser', 32, 1.29],\n",
    "                    ['Sharpener', 12, 10.39],\n",
    "                    ['Pencil', 42, 0.59 ]],\n",
    "                   index=[100024, 201024, 202034, 101122],\n",
    "                   columns = ['item', 'inventory', 'unit_price'])\n",
    "df2 = pd.DataFrame({'item': ('Pen', 'Eraser', 'Sharpener', 'Pencil'),\n",
    "                    'inventory': (24, 32, 12, 42),\n",
    "                    'unit_price': (2.39, 1.29, 10.39, 0.59)},\n",
    "                   index=[100024, 201024, 202034, 101122])"
   ]
  },
  {
   "cell_type": "code",
   "execution_count": 2,
   "metadata": {
    "collapsed": false
   },
   "outputs": [
    {
     "data": {
      "text/html": [
       "<div>\n",
       "<table border=\"1\" class=\"dataframe\">\n",
       "  <thead>\n",
       "    <tr style=\"text-align: right;\">\n",
       "      <th></th>\n",
       "      <th>item</th>\n",
       "      <th>inventory</th>\n",
       "      <th>unit_price</th>\n",
       "    </tr>\n",
       "  </thead>\n",
       "  <tbody>\n",
       "    <tr>\n",
       "      <th>100024</th>\n",
       "      <td>Pen</td>\n",
       "      <td>24</td>\n",
       "      <td>2.39</td>\n",
       "    </tr>\n",
       "    <tr>\n",
       "      <th>201024</th>\n",
       "      <td>Eraser</td>\n",
       "      <td>32</td>\n",
       "      <td>1.29</td>\n",
       "    </tr>\n",
       "    <tr>\n",
       "      <th>202034</th>\n",
       "      <td>Sharpener</td>\n",
       "      <td>12</td>\n",
       "      <td>10.39</td>\n",
       "    </tr>\n",
       "    <tr>\n",
       "      <th>101122</th>\n",
       "      <td>Pencil</td>\n",
       "      <td>42</td>\n",
       "      <td>0.59</td>\n",
       "    </tr>\n",
       "  </tbody>\n",
       "</table>\n",
       "</div>"
      ],
      "text/plain": [
       "             item  inventory  unit_price\n",
       "100024        Pen         24        2.39\n",
       "201024     Eraser         32        1.29\n",
       "202034  Sharpener         12       10.39\n",
       "101122     Pencil         42        0.59"
      ]
     },
     "execution_count": 2,
     "metadata": {},
     "output_type": "execute_result"
    }
   ],
   "source": [
    "df1"
   ]
  },
  {
   "cell_type": "code",
   "execution_count": 3,
   "metadata": {
    "collapsed": false
   },
   "outputs": [
    {
     "data": {
      "text/html": [
       "<div>\n",
       "<table border=\"1\" class=\"dataframe\">\n",
       "  <thead>\n",
       "    <tr style=\"text-align: right;\">\n",
       "      <th></th>\n",
       "      <th>inventory</th>\n",
       "      <th>item</th>\n",
       "      <th>unit_price</th>\n",
       "    </tr>\n",
       "  </thead>\n",
       "  <tbody>\n",
       "    <tr>\n",
       "      <th>100024</th>\n",
       "      <td>24</td>\n",
       "      <td>Pen</td>\n",
       "      <td>2.39</td>\n",
       "    </tr>\n",
       "    <tr>\n",
       "      <th>201024</th>\n",
       "      <td>32</td>\n",
       "      <td>Eraser</td>\n",
       "      <td>1.29</td>\n",
       "    </tr>\n",
       "    <tr>\n",
       "      <th>202034</th>\n",
       "      <td>12</td>\n",
       "      <td>Sharpener</td>\n",
       "      <td>10.39</td>\n",
       "    </tr>\n",
       "    <tr>\n",
       "      <th>101122</th>\n",
       "      <td>42</td>\n",
       "      <td>Pencil</td>\n",
       "      <td>0.59</td>\n",
       "    </tr>\n",
       "  </tbody>\n",
       "</table>\n",
       "</div>"
      ],
      "text/plain": [
       "        inventory       item  unit_price\n",
       "100024         24        Pen        2.39\n",
       "201024         32     Eraser        1.29\n",
       "202034         12  Sharpener       10.39\n",
       "101122         42     Pencil        0.59"
      ]
     },
     "execution_count": 3,
     "metadata": {},
     "output_type": "execute_result"
    }
   ],
   "source": [
    "df2"
   ]
  },
  {
   "cell_type": "code",
   "execution_count": null,
   "metadata": {
    "collapsed": true
   },
   "outputs": [],
   "source": []
  }
 ],
 "metadata": {
  "anaconda-cloud": {},
  "kernelspec": {
   "display_name": "Python [conda root]",
   "language": "python",
   "name": "conda-root-py"
  },
  "language_info": {
   "codemirror_mode": {
    "name": "ipython",
    "version": 3
   },
   "file_extension": ".py",
   "mimetype": "text/x-python",
   "name": "python",
   "nbconvert_exporter": "python",
   "pygments_lexer": "ipython3",
   "version": "3.6.0"
  }
 },
 "nbformat": 4,
 "nbformat_minor": 2
}
